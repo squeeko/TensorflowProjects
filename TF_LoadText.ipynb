{
  "nbformat": 4,
  "nbformat_minor": 0,
  "metadata": {
    "colab": {
      "name": "TF_LoadText.ipynb",
      "provenance": [],
      "collapsed_sections": [],
      "authorship_tag": "ABX9TyP5vFSlIqroC4ursO1Bokm3",
      "include_colab_link": true
    },
    "kernelspec": {
      "name": "python3",
      "display_name": "Python 3"
    }
  },
  "cells": [
    {
      "cell_type": "markdown",
      "metadata": {
        "id": "view-in-github",
        "colab_type": "text"
      },
      "source": [
        "<a href=\"https://colab.research.google.com/github/squeeko/TensorflowProjects/blob/in_progress/TF_LoadText.ipynb\" target=\"_parent\"><img src=\"https://colab.research.google.com/assets/colab-badge.svg\" alt=\"Open In Colab\"/></a>"
      ]
    },
    {
      "cell_type": "markdown",
      "metadata": {
        "id": "Ky238frMcgH8",
        "colab_type": "text"
      },
      "source": [
        "# Load text"
      ]
    },
    {
      "cell_type": "markdown",
      "metadata": {
        "id": "UQtr2eYFcp-a",
        "colab_type": "text"
      },
      "source": [
        "This tutorial provides an example of how to use [tf.data.TextLineDataset](https://www.tensorflow.org/api_docs/python/tf/data/TextLineDataset) to load examples from text files. TextLineDataset is designed to create a dataset from a text file, in which each example is a line of text from the original file. This is potentially useful for any text data that is primarily line-based (for example, poetry or error logs).\n",
        "\n",
        "In this tutorial, we'll use three different English translations of the same work, Homer's Illiad, and train a model to identify the translator given a single line of text."
      ]
    },
    {
      "cell_type": "markdown",
      "metadata": {
        "id": "m38bNrCUe4Pl",
        "colab_type": "text"
      },
      "source": [
        "## Setup"
      ]
    },
    {
      "cell_type": "code",
      "metadata": {
        "id": "4hiIEwwQcYVy",
        "colab_type": "code",
        "colab": {}
      },
      "source": [
        "pip install -q tfds-nightly"
      ],
      "execution_count": 3,
      "outputs": []
    },
    {
      "cell_type": "code",
      "metadata": {
        "id": "yFRZJUEOe_yE",
        "colab_type": "code",
        "colab": {}
      },
      "source": [
        "import tensorflow as tf\n",
        "import tensorflow_datasets as tfds\n",
        "import os"
      ],
      "execution_count": 4,
      "outputs": []
    },
    {
      "cell_type": "markdown",
      "metadata": {
        "id": "zkN5oa_ZfKMQ",
        "colab_type": "text"
      },
      "source": [
        "The texts of the three translations are by:\n",
        "\n",
        "\n",
        "\n",
        "*   William Cowper — text\n",
        "\n",
        "*   Edward, Earl of Derby — text\n",
        "\n",
        "*   Samuel Butler — text\n",
        "\n",
        "The text files used in this tutorial have undergone some typical preprocessing tasks, mostly removing stuff — document header and footer, line numbers, chapter titles. Download these lightly munged files locally."
      ]
    },
    {
      "cell_type": "code",
      "metadata": {
        "id": "ewBiD6CgfJGU",
        "colab_type": "code",
        "colab": {}
      },
      "source": [
        "DIRECTORY_URL = 'https://storage.googleapis.com/download.tensorflow.org/data/illiad/'"
      ],
      "execution_count": null,
      "outputs": []
    }
  ]
}